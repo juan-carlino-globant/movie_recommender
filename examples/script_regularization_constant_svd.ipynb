{
 "cells": [
  {
   "cell_type": "markdown",
   "metadata": {
    "collapsed": false
   },
   "source": [
    "# Script for choosing the best regularizer constant for the svd model\n"
   ]
  },
  {
   "cell_type": "code",
   "execution_count": 1,
   "metadata": {
    "collapsed": true
   },
   "outputs": [],
   "source": [
    "from os import path\n",
    "import numpy as np\n",
    "import matplotlib.pyplot as plt\n",
    "\n",
    "import sys\n",
    "parent_path = path.abspath('..')\n",
    "sys.path.insert(0, parent_path)\n",
    "import dfFunctions\n",
    "from utils import rmse\n",
    "import recommender as re\n",
    "\n",
    "\n",
    "path = parent_path + '/movielens/ml-1m/ratings.dat'\n",
    "df = dfFunctions.load_dataframe(path)\n",
    "model = re.SVDmodel(df, 'user', 'item', 'rating', 'svd')\n",
    "\n",
    "learning_rate = 0.001\n",
    "momentum_factor = 0.9\n",
    "num_steps = 9000\n",
    "batch_size = 700\n",
    "dimension = 12"
   ]
  },
  {
   "cell_type": "code",
   "execution_count": null,
   "metadata": {
    "collapsed": false
   },
   "outputs": [],
   "source": [
    "all_constants = np.random.random_sample([300])\n",
    "results = []\n",
    "times = []\n",
    "\n",
    "for regularizer_constant in all_constants:\n",
    "    print(\"\\nregularizer constant = {}\".format(regularizer_constant))\n",
    "    model.training(dimension,\n",
    "               regularizer_constant,\n",
    "               learning_rate,\n",
    "               momentum_factor,\n",
    "               batch_size,\n",
    "               num_steps,\n",
    "               False)\n",
    "    users, items, rates = model.test_batches.get_batch()\n",
    "    predicted_ratings = model.prediction(users,items)\n",
    "    result = rmse(predicted_ratings, rates)\n",
    "    results.append(result)\n",
    "    times.append(model.duration)"
   ]
  },
  {
   "cell_type": "code",
   "execution_count": 5,
   "metadata": {
    "collapsed": false
   },
   "outputs": [
    {
     "name": "stdout",
     "output_type": "stream",
     "text": [
      "In an experiment with 300 random constants\n",
      "the best  regularizer_constant is 0.00031423825053600307 with error 0.8472555875778198.\n",
      "Using this constant the training will take 14.38 seconds\n"
     ]
    }
   ],
   "source": [
    "all_constants = list(all_constants)\n",
    "best_result = min(list(zip(results,all_constants,times)))\n",
    "result_string = \"\"\"In an experiment with 300 random constants\n",
    "the best  regularizer_constant is {0} with error {1}.\n",
    "Using this constant the training will take {2} seconds\"\"\".format(\n",
    "                                                             best_result[1],\n",
    "                                                             best_result[0],\n",
    "                                                             best_result[2])\n",
    "print(result_string)"
   ]
  },
  {
   "cell_type": "code",
   "execution_count": 6,
   "metadata": {
    "collapsed": false
   },
   "outputs": [
    {
     "name": "stdout",
     "output_type": "stream",
     "text": [
      "0.942254 0.031181\n"
     ]
    }
   ],
   "source": [
    "print(np.mean(results),np.std(results))"
   ]
  },
  {
   "cell_type": "code",
   "execution_count": 8,
   "metadata": {
    "collapsed": false
   },
   "outputs": [
    {
     "name": "stdout",
     "output_type": "stream",
     "text": [
      "14.4029 0.273425047621\n"
     ]
    }
   ],
   "source": [
    "print(np.mean(times),np.std(times))"
   ]
  },
  {
   "cell_type": "code",
   "execution_count": 26,
   "metadata": {
    "collapsed": false
   },
   "outputs": [],
   "source": [
    "aggregate = list(zip(results,all_constants,times))\n",
    "under9 = [triple for triple in aggregate if triple[0]<0.9]"
   ]
  },
  {
   "cell_type": "code",
   "execution_count": 27,
   "metadata": {
    "collapsed": false
   },
   "outputs": [
    {
     "name": "stdout",
     "output_type": "stream",
     "text": [
      "0.27315065705 0.220298046865\n"
     ]
    }
   ],
   "source": [
    "all_con = [i[1] for i in under9]\n",
    "print(np.mean(all_con),np.std(all_con))"
   ]
  }
 ],
 "metadata": {
  "kernelspec": {
   "display_name": "Python 3",
   "language": "python",
   "name": "python3"
  },
  "language_info": {
   "codemirror_mode": {
    "name": "ipython",
    "version": 3
   },
   "file_extension": ".py",
   "mimetype": "text/x-python",
   "name": "python",
   "nbconvert_exporter": "python",
   "pygments_lexer": "ipython3",
   "version": "3.5.2"
  }
 },
 "nbformat": 4,
 "nbformat_minor": 1
}
