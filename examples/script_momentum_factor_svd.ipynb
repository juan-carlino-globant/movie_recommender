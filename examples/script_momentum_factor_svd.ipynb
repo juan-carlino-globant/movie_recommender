{
 "cells": [
  {
   "cell_type": "markdown",
   "metadata": {
    "collapsed": false
   },
   "source": [
    "# Script for choosing the best momentum factor  for the svd model\n"
   ]
  },
  {
   "cell_type": "code",
   "execution_count": 1,
   "metadata": {
    "collapsed": true
   },
   "outputs": [],
   "source": [
    "from os import path\n",
    "import numpy as np\n",
    "import matplotlib.pyplot as plt\n",
    "\n",
    "import sys\n",
    "parent_path = path.abspath('..')\n",
    "sys.path.insert(0, parent_path)\n",
    "import dfFunctions\n",
    "from utils import rmse\n",
    "import recommender as re\n",
    "\n",
    "\n",
    "path = parent_path + '/movielens/ml-1m/ratings.dat'\n",
    "df = dfFunctions.load_dataframe(path)\n",
    "model = re.SVDmodel(df, 'user', 'item', 'rating', 'svd')\n",
    "\n",
    "regularizer_constant= 0.0003\n",
    "learning_rate = 0.001\n",
    "num_steps = 9000\n",
    "batch_size = 700\n",
    "dimension = 12"
   ]
  },
  {
   "cell_type": "code",
   "execution_count": null,
   "metadata": {
    "collapsed": false
   },
   "outputs": [],
   "source": [
    "all_constants = np.random.random_sample([300])\n",
    "results = []\n",
    "times = []\n",
    "\n",
    "for i, momentum_factor in enumerate(all_constants):\n",
    "    print(\"\\n iteration ({}/300)\".format(i))\n",
    "    model.training(dimension,\n",
    "               regularizer_constant,\n",
    "               learning_rate,\n",
    "               momentum_factor,\n",
    "               batch_size,\n",
    "               num_steps,\n",
    "               False)\n",
    "    users, items, rates = model.test_batches.get_batch()\n",
    "    predicted_ratings = model.prediction(users,items)\n",
    "    result = rmse(predicted_ratings, rates)\n",
    "    results.append(result)\n",
    "    times.append(model.duration)"
   ]
  },
  {
   "cell_type": "code",
   "execution_count": 3,
   "metadata": {
    "collapsed": false
   },
   "outputs": [
    {
     "name": "stdout",
     "output_type": "stream",
     "text": [
      "In an experiment with 300 random constants\n",
      "the best momentum factor is 0.9264120820573123 with error 0.8353284001350403.\n",
      "Using this constant the training will take 14.41 seconds\n"
     ]
    }
   ],
   "source": [
    "all_constants = list(all_constants)\n",
    "aggregate = list(zip(results,all_constants,times))\n",
    "best_result = min(aggregate)\n",
    "result_string = \"\"\"In an experiment with 300 random constants\n",
    "the best momentum factor is {0} with error {1}.\n",
    "Using this constant the training will take {2} seconds\"\"\".format(\n",
    "                                                             best_result[1],\n",
    "                                                             best_result[0],\n",
    "                                                             best_result[2])\n",
    "print(result_string)"
   ]
  },
  {
   "cell_type": "code",
   "execution_count": 4,
   "metadata": {
    "collapsed": false
   },
   "outputs": [
    {
     "name": "stdout",
     "output_type": "stream",
     "text": [
      "0.955692 0.15133\n"
     ]
    }
   ],
   "source": [
    "print(np.mean(results),np.std(results))"
   ]
  },
  {
   "cell_type": "code",
   "execution_count": 5,
   "metadata": {
    "collapsed": false
   },
   "outputs": [
    {
     "name": "stdout",
     "output_type": "stream",
     "text": [
      "15.0412333333 0.377670242702\n"
     ]
    }
   ],
   "source": [
    "print(np.mean(times),np.std(times))"
   ]
  },
  {
   "cell_type": "code",
   "execution_count": 6,
   "metadata": {
    "collapsed": false
   },
   "outputs": [
    {
     "name": "stdout",
     "output_type": "stream",
     "text": [
      "0.706273205716 0.184959712835\n"
     ]
    }
   ],
   "source": [
    "under9 = [triple for triple in aggregate if triple[0]<0.9]\n",
    "all_con = [i[1] for i in under9]\n",
    "print(np.mean(all_con),np.std(all_con))"
   ]
  }
 ],
 "metadata": {
  "kernelspec": {
   "display_name": "Python 3",
   "language": "python",
   "name": "python3"
  },
  "language_info": {
   "codemirror_mode": {
    "name": "ipython",
    "version": 3
   },
   "file_extension": ".py",
   "mimetype": "text/x-python",
   "name": "python",
   "nbconvert_exporter": "python",
   "pygments_lexer": "ipython3",
   "version": "3.5.2"
  }
 },
 "nbformat": 4,
 "nbformat_minor": 1
}
