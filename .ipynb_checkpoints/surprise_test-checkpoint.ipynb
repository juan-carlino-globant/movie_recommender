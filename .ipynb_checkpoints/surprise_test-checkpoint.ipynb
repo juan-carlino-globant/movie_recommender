{
 "cells": [
  {
   "cell_type": "code",
   "execution_count": 1,
   "metadata": {},
   "outputs": [],
   "source": [
    "from collections import defaultdict\n",
    "\n",
    "from surprise import SVD\n",
    "from surprise import Dataset\n",
    "from surprise.model_selection import train_test_split\n",
    "from surprise import accuracy"
   ]
  },
  {
   "cell_type": "code",
   "execution_count": 27,
   "metadata": {},
   "outputs": [
    {
     "name": "stdout",
     "output_type": "stream",
     "text": [
      "RMSE: 0.8384\n"
     ]
    },
    {
     "data": {
      "text/plain": [
       "0.8383937046435391"
      ]
     },
     "execution_count": 27,
     "metadata": {},
     "output_type": "execute_result"
    }
   ],
   "source": [
    "def get_top_n(predictions, n=10):\n",
    "    '''Return the top-N recommendation for each user from a set of predictions.\n",
    "\n",
    "    Args:\n",
    "        predictions(list of Prediction objects): The list of predictions, as\n",
    "            returned by the test method of an algorithm.\n",
    "        n(int): The number of recommendation to output for each user. Default\n",
    "            is 10.\n",
    "\n",
    "    Returns:\n",
    "    A dict where keys are user (raw) ids and values are lists of tuples:\n",
    "        [(raw item id, rating estimation), ...] of size n.\n",
    "    '''\n",
    "\n",
    "    # First map the predictions to each user.\n",
    "    top_n = defaultdict(list)\n",
    "    for uid, iid, true_r, est, _ in predictions:\n",
    "        top_n[uid].append((iid, est))\n",
    "\n",
    "    # Then sort the predictions for each user and retrieve the k highest ones.\n",
    "    for uid, user_ratings in top_n.items():\n",
    "        user_ratings.sort(key=lambda x: x[1], reverse=True)\n",
    "        top_n[uid] = user_ratings[:n]\n",
    "\n",
    "    return top_n\n",
    "\n",
    "\n",
    "# First train an SVD algorithm on the movielens dataset.\n",
    "n_ratings = 1000000\n",
    "data_df = pd.read_csv(\"ratings.csv\")\n",
    "data_df = data_df.iloc[:n_ratings]\n",
    "reader = Reader(rating_scale=(0.5,5.0))\n",
    "data = Dataset.load_from_df(data_df[['userId', 'movieId', 'rating']], reader)\n",
    "\n",
    "trainset, testset = train_test_split(data, test_size=.25)\n",
    "\n",
    "#data = Dataset.load_builtin('ml-100k')\n",
    "#trainset = data.build_full_trainset()\n",
    "algo = SVD()\n",
    "algo.fit(trainset)\n",
    "\n",
    "# Than predict ratings for all pairs (u, i) that are NOT in the training set.\n",
    "#testset = trainset.build_anti_testset()\n",
    "predictions = algo.test(testset)\n",
    "\n",
    "top_n = get_top_n(predictions, n=10)\n",
    "# get RMSE\n",
    "accuracy.rmse(predictions)\n",
    "\n",
    "# Print the recommended items for each user\n",
    "#for uid, user_ratings in top_n.items():\n",
    "#    print(uid, [iid for (iid, _) in user_ratings])"
   ]
  },
  {
   "cell_type": "code",
   "execution_count": 6,
   "metadata": {
    "scrolled": true
   },
   "outputs": [
    {
     "name": "stdout",
     "output_type": "stream",
     "text": [
      "Evaluating RMSE, MAE of algorithm SVD on 5 split(s).\n",
      "\n",
      "                  Fold 1  Fold 2  Fold 3  Fold 4  Fold 5  Mean    Std     \n",
      "RMSE (testset)    0.8368  0.8336  0.8319  0.8355  0.8333  0.8342  0.0017  \n",
      "MAE (testset)     0.6396  0.6382  0.6365  0.6387  0.6381  0.6382  0.0010  \n",
      "Fit time          35.58   34.20   36.55   35.26   35.83   35.48   0.77    \n",
      "Test time         1.39    1.34    1.38    1.43    1.41    1.39    0.03    \n"
     ]
    },
    {
     "data": {
      "text/plain": [
       "{'test_rmse': array([0.83682816, 0.83358649, 0.8318936 , 0.83549357, 0.83332664]),\n",
       " 'test_mae': array([0.63955108, 0.63824305, 0.63648125, 0.63866097, 0.63813269]),\n",
       " 'fit_time': (35.58294677734375,\n",
       "  34.2040376663208,\n",
       "  36.54542112350464,\n",
       "  35.25814771652222,\n",
       "  35.834367513656616),\n",
       " 'test_time': (1.3891146183013916,\n",
       "  1.3417341709136963,\n",
       "  1.3804545402526855,\n",
       "  1.4315814971923828,\n",
       "  1.4110774993896484)}"
      ]
     },
     "execution_count": 6,
     "metadata": {},
     "output_type": "execute_result"
    }
   ],
   "source": [
    "from surprise import BaselineOnly\n",
    "from surprise import SVD\n",
    "from surprise import Dataset\n",
    "from surprise import Reader\n",
    "import os\n",
    "import pandas as pd\n",
    "from surprise.model_selection import cross_validate\n",
    "\n",
    "n_ratings = 1000000\n",
    "\n",
    "# path to dataset file\n",
    "file_path = os.path.expanduser('~/PROJS/hallmark/surprise_code/12_12_recosys/ratings_new.csv')\n",
    "#reader = Reader(line_format='user item rating timestamp', sep=',', rating_scale=(1,10),skip_lines=1)\n",
    "#data = Dataset.load_from_file(file_path, reader=reader)\n",
    "data_df = pd.read_csv(\"ratings.csv\")\n",
    "data_df = data_df.iloc[:n_ratings]\n",
    "reader = Reader(rating_scale=(0.5,5.0))\n",
    "data = Dataset.load_from_df(data_df[['userId', 'movieId', 'rating']], reader)\n",
    "\n",
    "\n",
    "# We can now use this dataset as we please, e.g. calling cross_validate\n",
    "cross_validate(SVD(), data, verbose=True, n_jobs=2)"
   ]
  },
  {
   "cell_type": "code",
   "execution_count": null,
   "metadata": {},
   "outputs": [],
   "source": [
    "# n_jobs=5\n",
    "\n",
    "#{'test_rmse': array([0.83286841, 0.83403583, 0.83453788, 0.837163  , 0.83377609]),\n",
    "# 'test_mae': array([0.63797554, 0.63812647, 0.6379149 , 0.63997025, 0.6375087 ]),\n",
    "# 'fit_time': (34.25440835952759,\n",
    "#  37.010011434555054,\n",
    "#  36.49393129348755,\n",
    "#  36.3558554649353,\n",
    "#  33.53095293045044),\n",
    "# 'test_time': (1.2990314960479736,\n",
    "#  1.3195006847381592,\n",
    "#  1.2744128704071045,\n",
    "#  1.252169132232666,\n",
    "#  1.2351505756378174)}"
   ]
  },
  {
   "cell_type": "code",
   "execution_count": null,
   "metadata": {},
   "outputs": [],
   "source": [
    "# n_jobs=1\n",
    "\n",
    "\n",
    "#{'test_rmse': array([0.83318748, 0.8343154 , 0.83587293, 0.83275152, 0.83569748]),\n",
    "# 'test_mae': array([0.63789076, 0.63755536, 0.63905574, 0.63709123, 0.63979902]),\n",
    "# 'fit_time': (34.5315260887146,\n",
    "#  35.73594927787781,\n",
    "#  35.420734882354736,\n",
    "#  35.074718952178955,\n",
    "#  35.664207458496094),\n",
    "# 'test_time': (2.5257678031921387,\n",
    "#  2.1665899753570557,\n",
    "#  2.3544838428497314,\n",
    "#  2.5684831142425537,\n",
    "#  2.2046148777008057)}"
   ]
  },
  {
   "cell_type": "code",
   "execution_count": null,
   "metadata": {},
   "outputs": [],
   "source": [
    "# n_jobs = 2\n",
    "\n",
    "#{'test_rmse': array([0.83682816, 0.83358649, 0.8318936 , 0.83549357, 0.83332664]),\n",
    "# 'test_mae': array([0.63955108, 0.63824305, 0.63648125, 0.63866097, 0.63813269]),\n",
    "# 'fit_time': (35.58294677734375,\n",
    "#  34.2040376663208,\n",
    "#  36.54542112350464,\n",
    "#  35.25814771652222,\n",
    "#  35.834367513656616),\n",
    "# 'test_time': (1.3891146183013916,\n",
    "#  1.3417341709136963,\n",
    "#  1.3804545402526855,\n",
    "#  1.4315814971923828,\n",
    "#  1.4110774993896484)}"
   ]
  }
 ],
 "metadata": {
  "kernelspec": {
   "display_name": "Python 3",
   "language": "python",
   "name": "python3"
  },
  "language_info": {
   "codemirror_mode": {
    "name": "ipython",
    "version": 3
   },
   "file_extension": ".py",
   "mimetype": "text/x-python",
   "name": "python",
   "nbconvert_exporter": "python",
   "pygments_lexer": "ipython3",
   "version": "3.7.1"
  }
 },
 "nbformat": 4,
 "nbformat_minor": 2
}
