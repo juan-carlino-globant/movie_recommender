{
 "cells": [
  {
   "cell_type": "code",
   "execution_count": 1,
   "metadata": {},
   "outputs": [],
   "source": [
    "import pandas as pd\n",
    "import numpy as np\n",
    "from sklearn.decomposition import TruncatedSVD\n",
    "import online_nmf"
   ]
  },
  {
   "cell_type": "code",
   "execution_count": 2,
   "metadata": {},
   "outputs": [
    {
     "name": "stdout",
     "output_type": "stream",
     "text": [
      "('users:', 702)\n"
     ]
    }
   ],
   "source": [
    "n_ratings = 100000\n",
    "latent_factors = 2\n",
    "n_iterations = 5\n",
    "data, model, movies, R_df, test, users = online_nmf.training(n_ratings, latent_factors, n_iterations)\n",
    "print(\"users:\",users.shape[0])"
   ]
  },
  {
   "cell_type": "code",
   "execution_count": 6,
   "metadata": {},
   "outputs": [],
   "source": [
    "#M_df = R_df.apply(lambda x: 2*x, axis=1).astype('int32').head()"
   ]
  },
  {
   "cell_type": "code",
   "execution_count": 18,
   "metadata": {},
   "outputs": [
    {
     "name": "stdout",
     "output_type": "stream",
     "text": [
      "selecting 140 users\n"
     ]
    },
    {
     "data": {
      "text/plain": [
       "(0.4302174099227036, 0.43021740992270363)"
      ]
     },
     "execution_count": 18,
     "metadata": {},
     "output_type": "execute_result"
    }
   ],
   "source": [
    "def get_RMSE():\n",
    "    from numpy.random import choice\n",
    "    from sklearn.metrics import mean_squared_error as mse\n",
    "\n",
    "    N_test = int(users.shape[0]*0.2)\n",
    "    print \"selecting\",N_test,\"users\"\n",
    "    RMSE = 0.\n",
    "    RMSEII = 0.\n",
    "    numbers = choice(users.shape[0], size=N_test)\n",
    "    reals = []\n",
    "    estimates = []\n",
    "    for user_idx in numbers:\n",
    "        \n",
    "        real_user = R_df.iloc[user_idx]\n",
    "        real_user = real_user.values.reshape(-1,real_user.shape[0])[0]\n",
    "        reals.append(real_user)\n",
    "        \n",
    "        est_user = users[user_idx]\n",
    "        est_user = est_user.reshape(-1,est_user.shape[0])\n",
    "        est_user = np.rint(model.inverse_transform(est_user))[0]\n",
    "        estimates.append(est_user)\n",
    "        \n",
    "        # # this is the same that sklearn does. Just in case\n",
    "        #aux = 0.\n",
    "        #for j in range(len(real_user)):\n",
    "        #    aux += (real_user[j]-est_user[j])*(real_user[j]-est_user[j])\n",
    "        #aux = aux/float(len(real_user))\n",
    "        #RMSEII += aux\n",
    "        \n",
    "    RMSE = np.sqrt( mse(reals,estimates) )\n",
    "    #RMSEII = np.sqrt( RMSEII/float(len(numbers)) )\n",
    "    \n",
    "    return RMSE, RMSEII\n",
    "#get_RMSE()"
   ]
  },
  {
   "cell_type": "code",
   "execution_count": 52,
   "metadata": {},
   "outputs": [],
   "source": [
    "def split_set(R_df):\n",
    "    import pandas as pd\n",
    "    from numpy.random import choice\n",
    "    # users_list = data['userId'].unique()\n",
    "    train_df = R_df\n",
    "#    test_df = pd.DataFrame({'userId' : [], 'movieId' : [], 'rating' : []})\n",
    "    \n",
    "    print len(R_df.columns)\n",
    "#    test_movies = choice(R_df.columns, size=int(data.shape[1]*.02), replace=False)\n",
    "    test_movies = choice(R_df.columns, size=15, replace=False)\n",
    "    test_ratings = []\n",
    "    test_users = []\n",
    "    \n",
    "    for tm in test_movies:\n",
    "        aux = R_df[tm].nonzero()[0]\n",
    "        if aux == []:\n",
    "            continue\n",
    "        fm = R_df[tm].nonzero()[0][0] # Movie\n",
    "#        test_users.append(R_df.index[fm]) # user (got from its index, just in case)\n",
    "        test_users.append(R_df.index.get_loc(R_df.index[fm]))\n",
    "        test_ratings.append( R_df[tm][R_df.index[fm]] ) # column = Movie, row = index of first nonzero rating for Movie\n",
    "        train_df[tm][R_df.index[fm]] = 0\n",
    "        \n",
    "    # data_df has some erased entries\n",
    "    # R_df is the same as before\n",
    "    test_movies = [ R_df.columns.get_loc(k) for k in test_movies]\n",
    "    print test_ratings\n",
    "\n",
    "\n",
    "#    for i in last_rows_idx:\n",
    "#        test_df = test_df.append(data.loc[i])\n",
    "#        train_df.drop(i, axis=0, inplace=True)\n",
    "\n",
    "    #test_df.reset_index(inplace=True)\n",
    "    #train_df.reset_index(inplace=True)\n",
    "    #test_df.drop('index',axis=1,inplace=True)\n",
    "    #train_df.drop('index',axis=1,inplace=True)\n",
    "\n",
    "    return train_df,test_movies, test_users, test_ratings\n"
   ]
  },
  {
   "cell_type": "code",
   "execution_count": 54,
   "metadata": {},
   "outputs": [
    {
     "name": "stdout",
     "output_type": "stream",
     "text": [
      "8227\n"
     ]
    },
    {
     "name": "stderr",
     "output_type": "stream",
     "text": [
      "/home/diego/anaconda3/envs/recom_env/lib/python2.7/site-packages/ipykernel_launcher.py:16: DeprecationWarning: elementwise == comparison failed; this will raise an error in the future.\n",
      "  app.launch_new_instance()\n",
      "/home/diego/anaconda3/envs/recom_env/lib/python2.7/site-packages/ipykernel_launcher.py:16: DeprecationWarning: The truth value of an empty array is ambiguous. Returning False, but in future this will result in an error. Use `array.size > 0` to check that an array is not empty.\n",
      "  app.launch_new_instance()\n"
     ]
    },
    {
     "ename": "IndexError",
     "evalue": "index 0 is out of bounds for axis 0 with size 0",
     "output_type": "error",
     "traceback": [
      "\u001b[0;31m---------------------------------------------------------------------------\u001b[0m",
      "\u001b[0;31mIndexError\u001b[0m                                Traceback (most recent call last)",
      "\u001b[0;32m<ipython-input-54-6f2887a400c9>\u001b[0m in \u001b[0;36m<module>\u001b[0;34m()\u001b[0m\n\u001b[1;32m     29\u001b[0m     \u001b[0;32mreturn\u001b[0m \u001b[0mRMSEII\u001b[0m\u001b[0;34m\u001b[0m\u001b[0m\n\u001b[1;32m     30\u001b[0m \u001b[0;34m\u001b[0m\u001b[0m\n\u001b[0;32m---> 31\u001b[0;31m \u001b[0mtrain_df\u001b[0m\u001b[0;34m,\u001b[0m\u001b[0mtest_movies\u001b[0m\u001b[0;34m,\u001b[0m \u001b[0mtest_users\u001b[0m\u001b[0;34m,\u001b[0m \u001b[0mtest_ratings\u001b[0m \u001b[0;34m=\u001b[0m \u001b[0msplit_set\u001b[0m\u001b[0;34m(\u001b[0m\u001b[0mR_df\u001b[0m\u001b[0;34m)\u001b[0m\u001b[0;34m\u001b[0m\u001b[0m\n\u001b[0m\u001b[1;32m     32\u001b[0m \u001b[0mget_RMSEII\u001b[0m\u001b[0;34m(\u001b[0m\u001b[0musers\u001b[0m\u001b[0;34m,\u001b[0m\u001b[0mmovies\u001b[0m\u001b[0;34m,\u001b[0m\u001b[0mR_df\u001b[0m\u001b[0;34m,\u001b[0m\u001b[0mtest_users\u001b[0m\u001b[0;34m,\u001b[0m\u001b[0mtest_movies\u001b[0m\u001b[0;34m,\u001b[0m\u001b[0mtest_ratings\u001b[0m\u001b[0;34m,\u001b[0m\u001b[0mmodel\u001b[0m\u001b[0;34m)\u001b[0m\u001b[0;34m\u001b[0m\u001b[0m\n",
      "\u001b[0;32m<ipython-input-52-bd9fed7dd62c>\u001b[0m in \u001b[0;36msplit_set\u001b[0;34m(R_df)\u001b[0m\n\u001b[1;32m     16\u001b[0m         \u001b[0;32mif\u001b[0m \u001b[0maux\u001b[0m \u001b[0;34m==\u001b[0m \u001b[0;34m[\u001b[0m\u001b[0;34m]\u001b[0m\u001b[0;34m:\u001b[0m\u001b[0;34m\u001b[0m\u001b[0m\n\u001b[1;32m     17\u001b[0m             \u001b[0;32mcontinue\u001b[0m\u001b[0;34m\u001b[0m\u001b[0m\n\u001b[0;32m---> 18\u001b[0;31m         \u001b[0mfm\u001b[0m \u001b[0;34m=\u001b[0m \u001b[0mR_df\u001b[0m\u001b[0;34m[\u001b[0m\u001b[0mtm\u001b[0m\u001b[0;34m]\u001b[0m\u001b[0;34m.\u001b[0m\u001b[0mnonzero\u001b[0m\u001b[0;34m(\u001b[0m\u001b[0;34m)\u001b[0m\u001b[0;34m[\u001b[0m\u001b[0;36m0\u001b[0m\u001b[0;34m]\u001b[0m\u001b[0;34m[\u001b[0m\u001b[0;36m0\u001b[0m\u001b[0;34m]\u001b[0m \u001b[0;31m# Movie\u001b[0m\u001b[0;34m\u001b[0m\u001b[0m\n\u001b[0m\u001b[1;32m     19\u001b[0m \u001b[0;31m#        test_users.append(R_df.index[fm]) # user (got from its index, just in case)\u001b[0m\u001b[0;34m\u001b[0m\u001b[0;34m\u001b[0m\u001b[0m\n\u001b[1;32m     20\u001b[0m         \u001b[0mtest_users\u001b[0m\u001b[0;34m.\u001b[0m\u001b[0mappend\u001b[0m\u001b[0;34m(\u001b[0m\u001b[0mR_df\u001b[0m\u001b[0;34m.\u001b[0m\u001b[0mindex\u001b[0m\u001b[0;34m.\u001b[0m\u001b[0mget_loc\u001b[0m\u001b[0;34m(\u001b[0m\u001b[0mR_df\u001b[0m\u001b[0;34m.\u001b[0m\u001b[0mindex\u001b[0m\u001b[0;34m[\u001b[0m\u001b[0mfm\u001b[0m\u001b[0;34m]\u001b[0m\u001b[0;34m)\u001b[0m\u001b[0;34m)\u001b[0m\u001b[0;34m\u001b[0m\u001b[0m\n",
      "\u001b[0;31mIndexError\u001b[0m: index 0 is out of bounds for axis 0 with size 0"
     ]
    }
   ],
   "source": [
    "\n",
    "def get_RMSEII(users,movies,R_df,test_users,test_movies,test_ratings,model):\n",
    "    import numpy as np\n",
    "    #print users[list(test_users)[10]]\n",
    "    # print(users[347]) just to check\n",
    "    U = np.asarray(users)\n",
    "    M = np.transpose(movies)\n",
    "    test_users = np.array(test_users)\n",
    "    test_movies = list(test_movies)\n",
    "    \n",
    "    estimates = []\n",
    "    reals = []\n",
    "    \n",
    "    RMSEII = 0.\n",
    "    for idx in range(len(test_users)):\n",
    "        t = U[test_users[idx]]\n",
    "        t = t.reshape(-1,t.shape[0])\n",
    "        tr_usr = model.inverse_transform(t)\n",
    "        \n",
    "        l = M[test_movies[idx]]\n",
    "        l = l.reshape(-1,l.shape[0])\n",
    "        tr_mov = model.inverse_transform(l)\n",
    "#        print(tr_mov.shape)\n",
    "#        print(tr_usr.shape)\n",
    "        realthing = test_ratings[idx]#R_df.iloc[test_movies[idx]].iloc[test_users[idx]]\n",
    "        rat = np.dot(tr_mov[0],tr_usr[0])\n",
    "        RMSEII += (rat-realthing)*(rat-realthing)\n",
    "        RMSEII = np.sqrt(RMSEII/float(len(test_users)))\n",
    "    return RMSEII\n",
    "\n",
    "train_df,test_movies, test_users, test_ratings = split_set(R_df)\n",
    "get_RMSEII(users,movies,R_df,test_users,test_movies,test_ratings,model)"
   ]
  },
  {
   "cell_type": "code",
   "execution_count": null,
   "metadata": {},
   "outputs": [],
   "source": []
  },
  {
   "cell_type": "code",
   "execution_count": null,
   "metadata": {},
   "outputs": [],
   "source": []
  }
 ],
 "metadata": {
  "@webio": {
   "lastCommId": "6cfbd45c27334d93bf23f50211c55cd8",
   "lastKernelId": "a2771b76-54e7-44a7-8681-c541fec12807"
  },
  "kernelspec": {
   "display_name": "Python 2",
   "language": "python",
   "name": "python2"
  },
  "language_info": {
   "codemirror_mode": {
    "name": "ipython",
    "version": 2
   },
   "file_extension": ".py",
   "mimetype": "text/x-python",
   "name": "python",
   "nbconvert_exporter": "python",
   "pygments_lexer": "ipython2",
   "version": "2.7.15"
  }
 },
 "nbformat": 4,
 "nbformat_minor": 2
}
